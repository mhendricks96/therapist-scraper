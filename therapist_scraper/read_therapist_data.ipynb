{
 "metadata": {
  "language_info": {
   "codemirror_mode": {
    "name": "ipython",
    "version": 3
   },
   "file_extension": ".py",
   "mimetype": "text/x-python",
   "name": "python",
   "nbconvert_exporter": "python",
   "pygments_lexer": "ipython3",
   "version": "3.9.7-final"
  },
  "orig_nbformat": 2,
  "kernelspec": {
   "name": "python3",
   "display_name": "Python 3 (ipykernel)",
   "language": "python"
  }
 },
 "nbformat": 4,
 "nbformat_minor": 2,
 "cells": [
  {
   "cell_type": "code",
   "execution_count": 2,
   "metadata": {},
   "outputs": [
    {
     "output_type": "error",
     "ename": "ModuleNotFoundError",
     "evalue": "No module named 'pandas'",
     "traceback": [
      "\u001b[0;31m---------------------------------------------------------------------------\u001b[0m",
      "\u001b[0;31mModuleNotFoundError\u001b[0m                       Traceback (most recent call last)",
      "\u001b[0;32m/var/folders/zh/ln3mzbg95k1b8c57440fkk380000gp/T/ipykernel_17151/1805423861.py\u001b[0m in \u001b[0;36m<module>\u001b[0;34m\u001b[0m\n\u001b[0;32m----> 1\u001b[0;31m \u001b[0;32mimport\u001b[0m \u001b[0mpandas\u001b[0m \u001b[0;32mas\u001b[0m \u001b[0mpd\u001b[0m\u001b[0;34m\u001b[0m\u001b[0;34m\u001b[0m\u001b[0m\n\u001b[0m\u001b[1;32m      2\u001b[0m \u001b[0;32mimport\u001b[0m \u001b[0mre\u001b[0m\u001b[0;34m\u001b[0m\u001b[0;34m\u001b[0m\u001b[0m\n\u001b[1;32m      3\u001b[0m \u001b[0;32mimport\u001b[0m \u001b[0mmatplotlib\u001b[0m\u001b[0;34m.\u001b[0m\u001b[0mpyplot\u001b[0m \u001b[0;32mas\u001b[0m \u001b[0mplt\u001b[0m\u001b[0;34m\u001b[0m\u001b[0;34m\u001b[0m\u001b[0m\n\u001b[1;32m      4\u001b[0m \u001b[0;32mimport\u001b[0m \u001b[0mseaborn\u001b[0m \u001b[0;32mas\u001b[0m \u001b[0msns\u001b[0m\u001b[0;34m\u001b[0m\u001b[0;34m\u001b[0m\u001b[0m\n",
      "\u001b[0;31mModuleNotFoundError\u001b[0m: No module named 'pandas'"
     ]
    }
   ],
   "source": [
    "import pandas as pd\n",
    "import re\n",
    "import matplotlib.pyplot as plt\n",
    "import seaborn as sns"
   ]
  },
  {
   "cell_type": "code",
   "execution_count": 2,
   "metadata": {},
   "outputs": [],
   "source": [
    "df = pd.read_csv('data/cleaned_up_therapist_info.csv')"
   ]
  },
  {
   "cell_type": "code",
   "execution_count": 3,
   "metadata": {},
   "outputs": [
    {
     "output_type": "execute_result",
     "data": {
      "text/plain": [
       "                        name    zip  \\\n",
       "0              Age Wise, LLC  97005   \n",
       "1            Jessilyn Barron  97005   \n",
       "2           Luis D Capestany  97005   \n",
       "3                Jen Shelton  97005   \n",
       "4            Frank D. Canepa  97005   \n",
       "...                      ...    ...   \n",
       "1775       Rochelle I Mollen  97239   \n",
       "1776           Mai Bao Xiong  97239   \n",
       "1777          Kathryn Valero  97239   \n",
       "1778  Miriam Louise Robinson  97239   \n",
       "1779            Brian Hannah  97239   \n",
       "\n",
       "                                              title  \\\n",
       "0                              Psychologist,PsyD,LP   \n",
       "1             ClinicalSocialWork/Therapist,MSW,LCSW   \n",
       "2     LicensedProfessionalCounselor,LPC,CRC,MRC,CGG   \n",
       "3       LicensedProfessionalCounselor,MA,MS,LPC,NCC   \n",
       "4                                LPCIntern,LPC-I,MA   \n",
       "...                                             ...   \n",
       "1775          ClinicalSocialWork/Therapist,MSW,LCSW   \n",
       "1776               Marriage&FamilyTherapist,MS,LMFT   \n",
       "1777      LicensedProfessionalCounselor,MA,LMHC,LPC   \n",
       "1778          ClinicalSocialWork/Therapist,LCSW,DCC   \n",
       "1779          ClinicalSocialWork/Therapist,MSW,LCSW   \n",
       "\n",
       "                                            specialties  price  \n",
       "0               Depression   Anxiety   ChronicIllness    170.0  \n",
       "1       RelationshipIssues   Parenting   LifeTransit...  150.0  \n",
       "2                      ADHD   Anxiety   MoodDisorders    200.0  \n",
       "3       DissociativeDisorders   TraumaandPTSD   Depr...  115.0  \n",
       "4                 Depression   Anxiety   Spirituality     80.0  \n",
       "...                                                 ...    ...  \n",
       "1775      ChildorAdolescent   Divorce   TraumaandPTSD    120.0  \n",
       "1776             Depression   Anxiety   TraumaandPTSD    150.0  \n",
       "1777    CopingSkills   BorderlinePersonality   Traum...  150.0  \n",
       "1778                Depression   Parenting   Adoption    150.0  \n",
       "1779         Grief   LifeTransitions   ChronicIllness    130.0  \n",
       "\n",
       "[1780 rows x 5 columns]"
      ],
      "text/html": "<div>\n<style scoped>\n    .dataframe tbody tr th:only-of-type {\n        vertical-align: middle;\n    }\n\n    .dataframe tbody tr th {\n        vertical-align: top;\n    }\n\n    .dataframe thead th {\n        text-align: right;\n    }\n</style>\n<table border=\"1\" class=\"dataframe\">\n  <thead>\n    <tr style=\"text-align: right;\">\n      <th></th>\n      <th>name</th>\n      <th>zip</th>\n      <th>title</th>\n      <th>specialties</th>\n      <th>price</th>\n    </tr>\n  </thead>\n  <tbody>\n    <tr>\n      <th>0</th>\n      <td>Age Wise, LLC</td>\n      <td>97005</td>\n      <td>Psychologist,PsyD,LP</td>\n      <td>Depression   Anxiety   ChronicIllness</td>\n      <td>170.0</td>\n    </tr>\n    <tr>\n      <th>1</th>\n      <td>Jessilyn Barron</td>\n      <td>97005</td>\n      <td>ClinicalSocialWork/Therapist,MSW,LCSW</td>\n      <td>RelationshipIssues   Parenting   LifeTransit...</td>\n      <td>150.0</td>\n    </tr>\n    <tr>\n      <th>2</th>\n      <td>Luis D Capestany</td>\n      <td>97005</td>\n      <td>LicensedProfessionalCounselor,LPC,CRC,MRC,CGG</td>\n      <td>ADHD   Anxiety   MoodDisorders</td>\n      <td>200.0</td>\n    </tr>\n    <tr>\n      <th>3</th>\n      <td>Jen Shelton</td>\n      <td>97005</td>\n      <td>LicensedProfessionalCounselor,MA,MS,LPC,NCC</td>\n      <td>DissociativeDisorders   TraumaandPTSD   Depr...</td>\n      <td>115.0</td>\n    </tr>\n    <tr>\n      <th>4</th>\n      <td>Frank D. Canepa</td>\n      <td>97005</td>\n      <td>LPCIntern,LPC-I,MA</td>\n      <td>Depression   Anxiety   Spirituality</td>\n      <td>80.0</td>\n    </tr>\n    <tr>\n      <th>...</th>\n      <td>...</td>\n      <td>...</td>\n      <td>...</td>\n      <td>...</td>\n      <td>...</td>\n    </tr>\n    <tr>\n      <th>1775</th>\n      <td>Rochelle I Mollen</td>\n      <td>97239</td>\n      <td>ClinicalSocialWork/Therapist,MSW,LCSW</td>\n      <td>ChildorAdolescent   Divorce   TraumaandPTSD</td>\n      <td>120.0</td>\n    </tr>\n    <tr>\n      <th>1776</th>\n      <td>Mai Bao Xiong</td>\n      <td>97239</td>\n      <td>Marriage&amp;FamilyTherapist,MS,LMFT</td>\n      <td>Depression   Anxiety   TraumaandPTSD</td>\n      <td>150.0</td>\n    </tr>\n    <tr>\n      <th>1777</th>\n      <td>Kathryn Valero</td>\n      <td>97239</td>\n      <td>LicensedProfessionalCounselor,MA,LMHC,LPC</td>\n      <td>CopingSkills   BorderlinePersonality   Traum...</td>\n      <td>150.0</td>\n    </tr>\n    <tr>\n      <th>1778</th>\n      <td>Miriam Louise Robinson</td>\n      <td>97239</td>\n      <td>ClinicalSocialWork/Therapist,LCSW,DCC</td>\n      <td>Depression   Parenting   Adoption</td>\n      <td>150.0</td>\n    </tr>\n    <tr>\n      <th>1779</th>\n      <td>Brian Hannah</td>\n      <td>97239</td>\n      <td>ClinicalSocialWork/Therapist,MSW,LCSW</td>\n      <td>Grief   LifeTransitions   ChronicIllness</td>\n      <td>130.0</td>\n    </tr>\n  </tbody>\n</table>\n<p>1780 rows × 5 columns</p>\n</div>"
     },
     "metadata": {},
     "execution_count": 3
    }
   ],
   "source": [
    "df"
   ]
  },
  {
   "cell_type": "code",
   "execution_count": null,
   "metadata": {},
   "outputs": [],
   "source": []
  }
 ]
}