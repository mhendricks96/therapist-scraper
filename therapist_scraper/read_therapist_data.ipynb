{
 "metadata": {
  "language_info": {
   "codemirror_mode": {
    "name": "ipython",
    "version": 3
   },
   "file_extension": ".py",
   "mimetype": "text/x-python",
   "name": "python",
   "nbconvert_exporter": "python",
   "pygments_lexer": "ipython3",
   "version": "3.9.5"
  },
  "orig_nbformat": 2,
  "kernelspec": {
   "name": "python3",
   "display_name": "Python 3.9.5 64-bit ('.venv': venv)",
   "metadata": {
    "interpreter": {
     "hash": "1db7560cf815a604557b9b9475f644437bb71fcf1f01ad1d8cc475ba01fe0848"
    }
   }
  }
 },
 "nbformat": 4,
 "nbformat_minor": 2,
 "cells": [
  {
   "cell_type": "code",
   "execution_count": 1,
   "metadata": {},
   "outputs": [],
   "source": [
    "import pandas as pd"
   ]
  },
  {
   "cell_type": "code",
   "execution_count": 3,
   "metadata": {},
   "outputs": [],
   "source": [
    "full_df = pd.read_csv('data/therapist_data.csv')"
   ]
  },
  {
   "cell_type": "code",
   "execution_count": 8,
   "metadata": {},
   "outputs": [],
   "source": [
    "full_df = full_df.set_index('name')"
   ]
  },
  {
   "cell_type": "code",
   "execution_count": 15,
   "metadata": {},
   "outputs": [
    {
     "output_type": "execute_result",
     "data": {
      "text/plain": [
       "                      zip                                          title  \\\n",
       "name                                                                       \n",
       "Age Wise, LLC     97005.0                           Psychologist,PsyD,LP   \n",
       "Jessilyn Barron   97005.0          ClinicalSocialWork/Therapist,MSW,LCSW   \n",
       "Luis D Capestany  97005.0  LicensedProfessionalCounselor,LPC,CRC,MRC,CGG   \n",
       "Jen Shelton       97005.0    LicensedProfessionalCounselor,MA,MS,LPC,NCC   \n",
       "Frank D. Canepa   97005.0                             LPCIntern,LPC-I,MA   \n",
       "\n",
       "                                                        specialties      price  \n",
       "name                                                                            \n",
       "Age Wise, LLC               Depression   Anxiety   ChronicIllness    $170-$250  \n",
       "Jessilyn Barron     RelationshipIssues   Parenting   LifeTransit...  $150-$275  \n",
       "Luis D Capestany                   ADHD   Anxiety   MoodDisorders        $200+  \n",
       "Jen Shelton         DissociativeDisorders   TraumaandPTSD   Depr...  $115-$185  \n",
       "Frank D. Canepa               Depression   Anxiety   Spirituality         $80+  "
      ],
      "text/html": "<div>\n<style scoped>\n    .dataframe tbody tr th:only-of-type {\n        vertical-align: middle;\n    }\n\n    .dataframe tbody tr th {\n        vertical-align: top;\n    }\n\n    .dataframe thead th {\n        text-align: right;\n    }\n</style>\n<table border=\"1\" class=\"dataframe\">\n  <thead>\n    <tr style=\"text-align: right;\">\n      <th></th>\n      <th>zip</th>\n      <th>title</th>\n      <th>specialties</th>\n      <th>price</th>\n    </tr>\n    <tr>\n      <th>name</th>\n      <th></th>\n      <th></th>\n      <th></th>\n      <th></th>\n    </tr>\n  </thead>\n  <tbody>\n    <tr>\n      <th>Age Wise, LLC</th>\n      <td>97005.0</td>\n      <td>Psychologist,PsyD,LP</td>\n      <td>Depression   Anxiety   ChronicIllness</td>\n      <td>$170-$250</td>\n    </tr>\n    <tr>\n      <th>Jessilyn Barron</th>\n      <td>97005.0</td>\n      <td>ClinicalSocialWork/Therapist,MSW,LCSW</td>\n      <td>RelationshipIssues   Parenting   LifeTransit...</td>\n      <td>$150-$275</td>\n    </tr>\n    <tr>\n      <th>Luis D Capestany</th>\n      <td>97005.0</td>\n      <td>LicensedProfessionalCounselor,LPC,CRC,MRC,CGG</td>\n      <td>ADHD   Anxiety   MoodDisorders</td>\n      <td>$200+</td>\n    </tr>\n    <tr>\n      <th>Jen Shelton</th>\n      <td>97005.0</td>\n      <td>LicensedProfessionalCounselor,MA,MS,LPC,NCC</td>\n      <td>DissociativeDisorders   TraumaandPTSD   Depr...</td>\n      <td>$115-$185</td>\n    </tr>\n    <tr>\n      <th>Frank D. Canepa</th>\n      <td>97005.0</td>\n      <td>LPCIntern,LPC-I,MA</td>\n      <td>Depression   Anxiety   Spirituality</td>\n      <td>$80+</td>\n    </tr>\n  </tbody>\n</table>\n</div>"
     },
     "metadata": {},
     "execution_count": 15
    }
   ],
   "source": [
    "#full_df\n",
    "full_df.head()"
   ]
  },
  {
   "cell_type": "code",
   "execution_count": 10,
   "metadata": {},
   "outputs": [
    {
     "output_type": "stream",
     "name": "stdout",
     "text": [
      "<class 'pandas.core.frame.DataFrame'>\nIndex: 2184 entries, Age Wise, LLC to Melinda Honeycutt\nData columns (total 4 columns):\n #   Column       Non-Null Count  Dtype  \n---  ------       --------------  -----  \n 0   zip          2181 non-null   float64\n 1   title        2177 non-null   object \n 2   specialties  2161 non-null   object \n 3   price        2162 non-null   object \ndtypes: float64(1), object(3)\nmemory usage: 85.3+ KB\n"
     ]
    }
   ],
   "source": [
    "full_df.info()"
   ]
  },
  {
   "cell_type": "code",
   "execution_count": 11,
   "metadata": {},
   "outputs": [
    {
     "output_type": "execute_result",
     "data": {
      "text/plain": [
       "                zip\n",
       "count   2181.000000\n",
       "mean   96413.247593\n",
       "std     7419.847929\n",
       "min     1201.000000\n",
       "25%    97202.000000\n",
       "50%    97213.000000\n",
       "75%    97223.000000\n",
       "max    99504.000000"
      ],
      "text/html": "<div>\n<style scoped>\n    .dataframe tbody tr th:only-of-type {\n        vertical-align: middle;\n    }\n\n    .dataframe tbody tr th {\n        vertical-align: top;\n    }\n\n    .dataframe thead th {\n        text-align: right;\n    }\n</style>\n<table border=\"1\" class=\"dataframe\">\n  <thead>\n    <tr style=\"text-align: right;\">\n      <th></th>\n      <th>zip</th>\n    </tr>\n  </thead>\n  <tbody>\n    <tr>\n      <th>count</th>\n      <td>2181.000000</td>\n    </tr>\n    <tr>\n      <th>mean</th>\n      <td>96413.247593</td>\n    </tr>\n    <tr>\n      <th>std</th>\n      <td>7419.847929</td>\n    </tr>\n    <tr>\n      <th>min</th>\n      <td>1201.000000</td>\n    </tr>\n    <tr>\n      <th>25%</th>\n      <td>97202.000000</td>\n    </tr>\n    <tr>\n      <th>50%</th>\n      <td>97213.000000</td>\n    </tr>\n    <tr>\n      <th>75%</th>\n      <td>97223.000000</td>\n    </tr>\n    <tr>\n      <th>max</th>\n      <td>99504.000000</td>\n    </tr>\n  </tbody>\n</table>\n</div>"
     },
     "metadata": {},
     "execution_count": 11
    }
   ],
   "source": [
    "full_df.describe()"
   ]
  },
  {
   "cell_type": "code",
   "execution_count": null,
   "metadata": {},
   "outputs": [],
   "source": []
  }
 ]
}