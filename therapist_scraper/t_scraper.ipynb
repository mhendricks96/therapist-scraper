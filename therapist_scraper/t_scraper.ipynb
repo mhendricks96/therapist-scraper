{
 "metadata": {
  "language_info": {
   "codemirror_mode": {
    "name": "ipython",
    "version": 3
   },
   "file_extension": ".py",
   "mimetype": "text/x-python",
   "name": "python",
   "nbconvert_exporter": "python",
   "pygments_lexer": "ipython3",
   "version": "3.9.5"
  },
  "orig_nbformat": 2,
  "kernelspec": {
   "name": "python3",
   "display_name": "Python 3.9.5  ('.venv': venv)",
   "metadata": {
    "interpreter": {
     "hash": "1db7560cf815a604557b9b9475f644437bb71fcf1f01ad1d8cc475ba01fe0848"
    }
   }
  }
 },
 "nbformat": 4,
 "nbformat_minor": 2,
 "cells": [
  {
   "cell_type": "code",
   "execution_count": 500,
   "metadata": {},
   "outputs": [],
   "source": [
    "import requests\n",
    "import urllib.request\n",
    "import time\n",
    "from bs4 import BeautifulSoup\n",
    "import pandas as pd\n",
    "import regex"
   ]
  },
  {
   "cell_type": "code",
   "execution_count": 501,
   "metadata": {},
   "outputs": [],
   "source": [
    "URL =  \"https://www.psychologytoday.com/us/therapists/or/portland/714186?sid=6109d19cf1992&ref=2\""
   ]
  },
  {
   "cell_type": "code",
   "execution_count": 502,
   "metadata": {},
   "outputs": [],
   "source": [
    "headers = {\"User-Agent\": \"Mozilla/5.0 (Macintosh; Intel Mac OS X 10_15_7) AppleWebKit/537.36 (KHTML, like Gecko) Chrome/92.0.4515.107 Safari/537.36\"}\n"
   ]
  },
  {
   "cell_type": "code",
   "execution_count": 503,
   "metadata": {},
   "outputs": [],
   "source": [
    "page = requests.get(URL, headers=headers)"
   ]
  },
  {
   "cell_type": "code",
   "execution_count": 504,
   "metadata": {},
   "outputs": [],
   "source": [
    "soup = BeautifulSoup(page.content, \"html.parser\")"
   ]
  },
  {
   "cell_type": "code",
   "execution_count": 505,
   "metadata": {},
   "outputs": [],
   "source": [
    "zip_code = soup.find(itemprop=\"postalcode\").get_text()"
   ]
  },
  {
   "cell_type": "code",
   "execution_count": 506,
   "metadata": {},
   "outputs": [],
   "source": [
    "name = soup.find(itemprop=\"name\").get_text()"
   ]
  },
  {
   "cell_type": "code",
   "execution_count": 507,
   "metadata": {},
   "outputs": [],
   "source": [
    "title = soup.find(\"h2\").get_text()"
   ]
  },
  {
   "cell_type": "code",
   "execution_count": 508,
   "metadata": {},
   "outputs": [],
   "source": [
    "specialties = soup.find(\"ul\", class_=\"attribute-list specialties-list\").get_text()"
   ]
  },
  {
   "cell_type": "code",
   "execution_count": 509,
   "metadata": {},
   "outputs": [],
   "source": [
    "insurance = soup.find(\"ul\", class_= \"attribute-list copy-small\").get_text()"
   ]
  },
  {
   "cell_type": "code",
   "execution_count": 510,
   "metadata": {},
   "outputs": [],
   "source": [
    "price = soup.find(\"div\", class_=\"finances-office\").get_text()#.contents"
   ]
  },
  {
   "cell_type": "code",
   "execution_count": 511,
   "metadata": {},
   "outputs": [],
   "source": [
    "price = price.split('\\n')"
   ]
  },
  {
   "cell_type": "code",
   "execution_count": 512,
   "metadata": {},
   "outputs": [],
   "source": [
    "while '' in price:\n",
    "    price.remove('')"
   ]
  },
  {
   "cell_type": "code",
   "execution_count": 513,
   "metadata": {},
   "outputs": [],
   "source": [
    "records = []\n",
    "next_url = \"https://www.psychologytoday.com/us/therapists/or/portland/708685?sid=6109d19cf1992&ref=1\"\n",
    "for person in range(10):\n",
    "\n",
    "    next_page = requests.get(next_url, headers=headers)\n",
    "    next_soup = BeautifulSoup(next_page.content, \"html.parser\")\n",
    "    next_zip_code = next_soup.find(itemprop=\"postalcode\").get_text()\n",
    "    next_name = next_soup.find(itemprop=\"name\").get_text()\n",
    "    next_title = next_soup.find(\"h2\").get_text()\n",
    "    next_specialties = next_soup.find(\"ul\", class_=\"attribute-list specialties-list\").get_text()\n",
    "    # next_insurance = next_soup.find(\"ul\", class_= \"attribute-list copy-small\").get_text()\n",
    "    next_price = next_soup.find(\"div\", class_=\"finances-office\").get_text().split('\\n')\n",
    "    while '' in next_price:\n",
    "        next_price.remove('')\n",
    "    while '            ' in next_price:\n",
    "        next_price.remove('            ')\n",
    "    while '                                                    ' in next_price:\n",
    "        next_price.remove('                                                    ')\n",
    "    price = next_price[0]\n",
    "    records.append((next_name.strip(), next_zip_code, next_title, next_specialties, price))\n",
    "\n",
    "    # print(next_name.strip())\n",
    "    # print(next_zip_code)\n",
    "    # print(next_specialties)\n",
    "    # print(next_title.strip())\n",
    "    # #print(insurance)\n",
    "    # print(next_price)\n",
    "    #time.sleep(1)\n",
    "    next_url = next_soup.find(\"a\", class_=\"profile-next\")[\"href\"]\n",
    "#print(records)"
   ]
  },
  {
   "cell_type": "code",
   "execution_count": 514,
   "metadata": {},
   "outputs": [
    {
     "output_type": "execute_result",
     "data": {
      "text/plain": [
       "['Cost per Session: $90 - $120',\n",
       " 'Sliding Scale: Yes',\n",
       " '                            I cannot accept insurance; however, I am happy to provide documentation so you may receive reimbursement, if you insurance allows.',\n",
       " '                ',\n",
       " 'Email me or call (971) 717-3995 with questions.',\n",
       " '                                    ']"
      ]
     },
     "metadata": {},
     "execution_count": 514
    }
   ],
   "source": [
    "next_price"
   ]
  },
  {
   "cell_type": "code",
   "execution_count": 515,
   "metadata": {},
   "outputs": [],
   "source": [
    "df = pd.DataFrame(records, columns=[\"name\",\"zip\",\"title\",\"specialties\",\"price\"])\n"
   ]
  },
  {
   "cell_type": "code",
   "execution_count": 516,
   "metadata": {},
   "outputs": [],
   "source": [
    "df[\"specialties\"] = df[\"specialties\"].str.replace(' ','')"
   ]
  },
  {
   "cell_type": "code",
   "execution_count": 517,
   "metadata": {},
   "outputs": [],
   "source": [
    "df[[\"title\",\"specialties\",\"price\"]] = df[[\"title\",\"specialties\",\"price\"]].replace('\\n',' ', regex=True)"
   ]
  },
  {
   "cell_type": "code",
   "execution_count": 518,
   "metadata": {},
   "outputs": [],
   "source": [
    "df[\"price\"] = df[\"price\"].str.replace('Cost per Session: ','')"
   ]
  },
  {
   "cell_type": "code",
   "execution_count": 519,
   "metadata": {},
   "outputs": [],
   "source": [
    "df[\"title\"] = df[\"title\"].str.replace(' ','')"
   ]
  },
  {
   "cell_type": "code",
   "execution_count": 520,
   "metadata": {},
   "outputs": [
    {
     "output_type": "execute_result",
     "data": {
      "text/plain": [
       "                    name    zip  \\\n",
       "0  Kierstin Leigh Oliver  97220   \n",
       "1          Rachel Archer  97213   \n",
       "2  James Gibb Counseling  97229   \n",
       "3         Robert Markell  97213   \n",
       "4            LeAnna Mill  97216   \n",
       "5          Cherrie Padua  97217   \n",
       "6            John Lenkin  97209   \n",
       "7   Jennifer Ripley-Wood  97202   \n",
       "8        Ann Marie Miner  97214   \n",
       "9           Sylas L Veit  97214   \n",
       "\n",
       "                                               title  \\\n",
       "0          LicensedProfessionalCounselor,MS,LCPC,LPC   \n",
       "1                                  Psychologist,PsyD   \n",
       "2  LicensedProfessionalCounselor,MA,LPC,NCC,BC-TM...   \n",
       "3             LicensedProfessionalCounselor,LMHC,LPC   \n",
       "4                                    LPCIntern,MALPC   \n",
       "5               LicensedProfessionalCounselor,MA,LPC   \n",
       "6                                      LPCIntern,SEP   \n",
       "7                  LicensedProfessionalCounselor,LPC   \n",
       "8                                  Psychologist,PsyD   \n",
       "9                                          LPCIntern   \n",
       "\n",
       "                                         specialties        price  \n",
       "0     Anxiety   Women'sIssues   RelationshipIssues     $50 - $125  \n",
       "1                             Anxiety   Depression    $205 - $215  \n",
       "2           AngerManagement   Anxiety   Depression     $60 - $150  \n",
       "3                                                     $120 - $160  \n",
       "4             DomesticAbuse   Anxiety   Depression     $40 - $100  \n",
       "5                    Anxiety   Depression   Stress    $100 - $150  \n",
       "6                                                       $25 - $70  \n",
       "7             Anxiety   Depression   TraumaandPTSD    $140 - $160  \n",
       "8    Pregnancy,Prenatal,Postpartum   Relationship...  $160 - $180  \n",
       "9       Transgender   RelationshipIssues   Anxiety     $90 - $120  "
      ],
      "text/html": "<div>\n<style scoped>\n    .dataframe tbody tr th:only-of-type {\n        vertical-align: middle;\n    }\n\n    .dataframe tbody tr th {\n        vertical-align: top;\n    }\n\n    .dataframe thead th {\n        text-align: right;\n    }\n</style>\n<table border=\"1\" class=\"dataframe\">\n  <thead>\n    <tr style=\"text-align: right;\">\n      <th></th>\n      <th>name</th>\n      <th>zip</th>\n      <th>title</th>\n      <th>specialties</th>\n      <th>price</th>\n    </tr>\n  </thead>\n  <tbody>\n    <tr>\n      <th>0</th>\n      <td>Kierstin Leigh Oliver</td>\n      <td>97220</td>\n      <td>LicensedProfessionalCounselor,MS,LCPC,LPC</td>\n      <td>Anxiety   Women'sIssues   RelationshipIssues</td>\n      <td>$50 - $125</td>\n    </tr>\n    <tr>\n      <th>1</th>\n      <td>Rachel Archer</td>\n      <td>97213</td>\n      <td>Psychologist,PsyD</td>\n      <td>Anxiety   Depression</td>\n      <td>$205 - $215</td>\n    </tr>\n    <tr>\n      <th>2</th>\n      <td>James Gibb Counseling</td>\n      <td>97229</td>\n      <td>LicensedProfessionalCounselor,MA,LPC,NCC,BC-TM...</td>\n      <td>AngerManagement   Anxiety   Depression</td>\n      <td>$60 - $150</td>\n    </tr>\n    <tr>\n      <th>3</th>\n      <td>Robert Markell</td>\n      <td>97213</td>\n      <td>LicensedProfessionalCounselor,LMHC,LPC</td>\n      <td></td>\n      <td>$120 - $160</td>\n    </tr>\n    <tr>\n      <th>4</th>\n      <td>LeAnna Mill</td>\n      <td>97216</td>\n      <td>LPCIntern,MALPC</td>\n      <td>DomesticAbuse   Anxiety   Depression</td>\n      <td>$40 - $100</td>\n    </tr>\n    <tr>\n      <th>5</th>\n      <td>Cherrie Padua</td>\n      <td>97217</td>\n      <td>LicensedProfessionalCounselor,MA,LPC</td>\n      <td>Anxiety   Depression   Stress</td>\n      <td>$100 - $150</td>\n    </tr>\n    <tr>\n      <th>6</th>\n      <td>John Lenkin</td>\n      <td>97209</td>\n      <td>LPCIntern,SEP</td>\n      <td></td>\n      <td>$25 - $70</td>\n    </tr>\n    <tr>\n      <th>7</th>\n      <td>Jennifer Ripley-Wood</td>\n      <td>97202</td>\n      <td>LicensedProfessionalCounselor,LPC</td>\n      <td>Anxiety   Depression   TraumaandPTSD</td>\n      <td>$140 - $160</td>\n    </tr>\n    <tr>\n      <th>8</th>\n      <td>Ann Marie Miner</td>\n      <td>97214</td>\n      <td>Psychologist,PsyD</td>\n      <td>Pregnancy,Prenatal,Postpartum   Relationship...</td>\n      <td>$160 - $180</td>\n    </tr>\n    <tr>\n      <th>9</th>\n      <td>Sylas L Veit</td>\n      <td>97214</td>\n      <td>LPCIntern</td>\n      <td>Transgender   RelationshipIssues   Anxiety</td>\n      <td>$90 - $120</td>\n    </tr>\n  </tbody>\n</table>\n</div>"
     },
     "metadata": {},
     "execution_count": 520
    }
   ],
   "source": [
    "df"
   ]
  },
  {
   "cell_type": "code",
   "execution_count": null,
   "metadata": {},
   "outputs": [],
   "source": []
  }
 ]
}