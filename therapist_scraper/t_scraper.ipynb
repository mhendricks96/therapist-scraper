{
 "metadata": {
  "language_info": {
   "codemirror_mode": {
    "name": "ipython",
    "version": 3
   },
   "file_extension": ".py",
   "mimetype": "text/x-python",
   "name": "python",
   "nbconvert_exporter": "python",
   "pygments_lexer": "ipython3",
   "version": "3.9.5"
  },
  "orig_nbformat": 2,
  "kernelspec": {
   "name": "python3",
   "display_name": "Python 3.9.5  ('.venv': venv)",
   "metadata": {
    "interpreter": {
     "hash": "1db7560cf815a604557b9b9475f644437bb71fcf1f01ad1d8cc475ba01fe0848"
    }
   }
  }
 },
 "nbformat": 4,
 "nbformat_minor": 2,
 "cells": [
  {
   "cell_type": "code",
   "execution_count": 649,
   "metadata": {},
   "outputs": [],
   "source": [
    "import requests\n",
    "import urllib.request\n",
    "import time\n",
    "from bs4 import BeautifulSoup\n",
    "import pandas as pd\n",
    "import regex"
   ]
  },
  {
   "cell_type": "code",
   "execution_count": 650,
   "metadata": {},
   "outputs": [],
   "source": [
    "#URL =  \"https://www.psychologytoday.com/us/therapists/or/portland/714186?sid=6109d19cf1992&ref=2\""
   ]
  },
  {
   "cell_type": "code",
   "execution_count": 651,
   "metadata": {},
   "outputs": [],
   "source": [
    "headers = {\"User-Agent\": \"Mozilla/5.0 (Macintosh; Intel Mac OS X 10_15_7) AppleWebKit/537.36 (KHTML, like Gecko) Chrome/92.0.4515.107 Safari/537.36\"}\n"
   ]
  },
  {
   "cell_type": "code",
   "execution_count": 652,
   "metadata": {},
   "outputs": [],
   "source": [
    "#page = requests.get(URL, headers=headers)"
   ]
  },
  {
   "cell_type": "code",
   "execution_count": 653,
   "metadata": {},
   "outputs": [],
   "source": [
    "#soup = BeautifulSoup(page.content, \"html.parser\")"
   ]
  },
  {
   "cell_type": "code",
   "execution_count": 654,
   "metadata": {},
   "outputs": [],
   "source": [
    "#zip_code = soup.find(itemprop=\"postalcode\").get_text()"
   ]
  },
  {
   "cell_type": "code",
   "execution_count": 655,
   "metadata": {},
   "outputs": [],
   "source": [
    "#name = soup.find(itemprop=\"name\").get_text()"
   ]
  },
  {
   "cell_type": "code",
   "execution_count": 656,
   "metadata": {},
   "outputs": [],
   "source": [
    "#title = soup.find(\"h2\").get_text()"
   ]
  },
  {
   "cell_type": "code",
   "execution_count": 657,
   "metadata": {},
   "outputs": [],
   "source": [
    "#specialties = soup.find(\"ul\", class_=\"attribute-list specialties-list\").get_text()"
   ]
  },
  {
   "cell_type": "code",
   "execution_count": 658,
   "metadata": {},
   "outputs": [],
   "source": [
    "#insurance = soup.find(\"ul\", class_= \"attribute-list copy-small\").get_text()"
   ]
  },
  {
   "cell_type": "code",
   "execution_count": 659,
   "metadata": {},
   "outputs": [],
   "source": [
    "#price = soup.find(\"div\", class_=\"finances-office\").get_text()#.contents"
   ]
  },
  {
   "cell_type": "code",
   "execution_count": 660,
   "metadata": {},
   "outputs": [],
   "source": [
    "#price = price.split('\\n')"
   ]
  },
  {
   "cell_type": "code",
   "execution_count": 661,
   "metadata": {},
   "outputs": [],
   "source": [
    "# while '' in price:\n",
    "#     price.remove('')"
   ]
  },
  {
   "cell_type": "code",
   "execution_count": 662,
   "metadata": {},
   "outputs": [],
   "source": [
    "records = []\n",
    "next_url = \"https://www.psychologytoday.com/us/therapists/or/portland/108093?sid=610a32c3d201b&ref=1\"\n",
    "for person in range(10):\n",
    "\n",
    "    next_page = requests.get(next_url, headers=headers)\n",
    "    next_soup = BeautifulSoup(next_page.content, \"html.parser\")\n",
    "    next_zip_code = next_soup.find(itemprop=\"postalcode\").get_text()\n",
    "    next_name = next_soup.find(itemprop=\"name\").get_text()\n",
    "    next_title = next_soup.find(\"h2\").get_text()\n",
    "    try:\n",
    "        next_specialties = next_soup.find(\"ul\", class_=\"attribute-list specialties-list\").get_text()\n",
    "    except AttributeError:\n",
    "        next_specialties = \"N/A\"\n",
    "    # next_insurance = next_soup.find(\"ul\", class_= \"attribute-list copy-small\").get_text()\n",
    "    try:\n",
    "        next_price = next_soup.find(\"div\", class_=\"finances-office\").get_text().split('\\n')\n",
    "        while '' in next_price:\n",
    "            next_price.remove('')\n",
    "        while '            ' in next_price:\n",
    "            next_price.remove('            ')\n",
    "        while '                                                    ' in next_price:\n",
    "            next_price.remove('                                                    ')\n",
    "        price = next_price[0]\n",
    "    except AttributeError:\n",
    "        price = \"N/A\"\n",
    "    \n",
    "    \n",
    "    records.append((next_name.strip(), next_zip_code, next_title, next_specialties, price))\n",
    "\n",
    "    \n",
    "    time.sleep(1)\n",
    "    next_url = next_soup.find(\"a\", class_=\"profile-next\")[\"href\"]\n",
    "#print(records)"
   ]
  },
  {
   "cell_type": "code",
   "execution_count": 663,
   "metadata": {},
   "outputs": [],
   "source": [
    "df = pd.DataFrame(records, columns=[\"name\",\"zip\",\"title\",\"specialties\",\"price\"])\n"
   ]
  },
  {
   "cell_type": "code",
   "execution_count": 664,
   "metadata": {},
   "outputs": [],
   "source": [
    "df[\"specialties\"] = df[\"specialties\"].str.replace(' ','')"
   ]
  },
  {
   "cell_type": "code",
   "execution_count": 665,
   "metadata": {},
   "outputs": [],
   "source": [
    "df[[\"title\",\"specialties\",\"price\"]] = df[[\"title\",\"specialties\",\"price\"]].replace('\\n',' ', regex=True)"
   ]
  },
  {
   "cell_type": "code",
   "execution_count": 666,
   "metadata": {},
   "outputs": [],
   "source": [
    "df[\"price\"] = df[\"price\"].str.replace('Cost per Session: ','')"
   ]
  },
  {
   "cell_type": "code",
   "execution_count": 667,
   "metadata": {},
   "outputs": [],
   "source": [
    "df[\"price\"] = df[\"price\"].str.replace(' ','')"
   ]
  },
  {
   "cell_type": "code",
   "execution_count": 668,
   "metadata": {},
   "outputs": [],
   "source": [
    "df[\"title\"] = df[\"title\"].str.replace(' ','')"
   ]
  },
  {
   "cell_type": "code",
   "execution_count": 671,
   "metadata": {},
   "outputs": [],
   "source": [
    "#df"
   ]
  },
  {
   "cell_type": "code",
   "execution_count": 670,
   "metadata": {},
   "outputs": [],
   "source": [
    "df.to_csv('therapist_data.csv')"
   ]
  },
  {
   "cell_type": "code",
   "execution_count": null,
   "metadata": {},
   "outputs": [],
   "source": []
  }
 ]
}